{
 "cells": [
  {
   "cell_type": "code",
   "execution_count": 9,
   "id": "92d8f832-b93a-45e1-8f7d-146bbfd1ca07",
   "metadata": {},
   "outputs": [],
   "source": [
    "import secrets"
   ]
  },
  {
   "cell_type": "code",
   "execution_count": 13,
   "id": "c87380cb-51f9-431e-8eb1-fed42207aa4c",
   "metadata": {},
   "outputs": [
    {
     "name": "stdout",
     "output_type": "stream",
     "text": [
      "Token: oY01jT7BSHbr_Higl4_0Zjrw8vAHzUPGlvuLps_9JrA \n",
      "Length: 43\n"
     ]
    }
   ],
   "source": [
    "urlsafe_token = secrets.token_urlsafe(32)\n",
    "print(f\"Token: {urlsafe_token} \\nLength: {len(urlsafe_token)}\")"
   ]
  },
  {
   "cell_type": "code",
   "execution_count": 14,
   "id": "36175a4b-2e2b-4558-897f-4c663c43ab49",
   "metadata": {},
   "outputs": [
    {
     "name": "stdout",
     "output_type": "stream",
     "text": [
      "Token: bffe57b55b386e21b68cb134e59b7db4504b97ca2e0aaf7b355c8540b9002302260d46dca6cbc35843f1e1e0a798ee4b24db320580857a3feda168e1f1a4bafcdb2eb051c83928ffa713ab2925172f2f41178feba4948b4f490a13517da8a857f7e378a987d38dc191dc72ad2dcedb7bfeb130bdd3a51e8131d6620c72f80020355b3323da71c7fa2d26c1509b39bc9914ab1a7f93587cd9dabfec219e619ea67c2d74a65215a86b11a5346ed369d8bba9b6ed701ac7f2d472b36c99968e2b4a2636aecdaff60b06b1aabafc0c800cbdb9693263cbf896ae3a6b54ba1489746bfd2d97a52e6009f9ec4e16e2972e7fbc393076dd9345282d6b78c916168d325cbc961d5e23a6f7167796e7ac7dfc68a0ebaa52381912957faacedd063fbffa3de11ce560edc39ef6741e936fb56cb7a32332abd76f944be33eea526df1ea246512877b0870ff115d5cb6412ed8511dfe46c06bc1e593c020a45f1b5bd0f9373b9bfe50201501c355b1e78fdd4c2387cf342e2b7b51ab4e6d986c62beaa52d60b4dbb7590b54217549575e6d1805d2b23871147e4b41fe19aff95efa164847b4bed20fad750b0696c42dabfa0b873fc859401c604a301a250755c932cb513612b5cbce5057559a2a0549f56e6a8012937d8afb19caa9cba1f56b23ab122ac4621742f10fef3ff6d1061db67cb1d798e59727f6ac4eb3ac5ee097c56671810fc19 \n",
      "Length: 1024\n"
     ]
    }
   ],
   "source": [
    "hex_token = secrets.token_hex(512)\n",
    "print(f\"Token: {hex_token} \\nLength: {len(hex_token)}\")"
   ]
  },
  {
   "cell_type": "code",
   "execution_count": 17,
   "id": "e1366dca-d5a6-4e1a-b447-a17fe558e712",
   "metadata": {},
   "outputs": [
    {
     "data": {
      "text/plain": [
       "161334528"
      ]
     },
     "execution_count": 17,
     "metadata": {},
     "output_type": "execute_result"
    }
   ],
   "source": [
    "secrets.randbits(32)"
   ]
  },
  {
   "cell_type": "code",
   "execution_count": 18,
   "id": "832090a5-de7c-4f23-bb19-eb8b3050edf5",
   "metadata": {},
   "outputs": [],
   "source": [
    "import ipaddress"
   ]
  },
  {
   "cell_type": "code",
   "execution_count": 29,
   "id": "b348fee3-5172-4004-93f9-197fef488c77",
   "metadata": {},
   "outputs": [
    {
     "name": "stdout",
     "output_type": "stream",
     "text": [
      "226.225.238.98\n"
     ]
    }
   ],
   "source": [
    "ip_addr = ipaddress.IPv4Address(secrets.randbits(32))\n",
    "print(ip_addr)"
   ]
  },
  {
   "cell_type": "code",
   "execution_count": 20,
   "id": "ee11faf3-7926-4eb0-823f-9e1f4805571d",
   "metadata": {},
   "outputs": [
    {
     "data": {
      "text/plain": [
       "IPv4Address('84.201.205.31')"
      ]
     },
     "execution_count": 20,
     "metadata": {},
     "output_type": "execute_result"
    }
   ],
   "source": []
  },
  {
   "cell_type": "code",
   "execution_count": null,
   "id": "087fc5c2-3c01-4118-88c3-56bd186e23b0",
   "metadata": {},
   "outputs": [],
   "source": []
  }
 ],
 "metadata": {
  "kernelspec": {
   "display_name": "Python 3 (ipykernel)",
   "language": "python",
   "name": "python3"
  },
  "language_info": {
   "codemirror_mode": {
    "name": "ipython",
    "version": 3
   },
   "file_extension": ".py",
   "mimetype": "text/x-python",
   "name": "python",
   "nbconvert_exporter": "python",
   "pygments_lexer": "ipython3",
   "version": "3.8.10"
  }
 },
 "nbformat": 4,
 "nbformat_minor": 5
}
